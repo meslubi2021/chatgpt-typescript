{
 "cells": [
  {
   "cell_type": "code",
   "execution_count": 1,
   "metadata": {
    "collapsed": true
   },
   "outputs": [],
   "source": [
    "from transformers import RobertaTokenizer, RobertaModel\n",
    "import torch"
   ]
  },
  {
   "cell_type": "code",
   "execution_count": 7,
   "outputs": [
    {
     "data": {
      "text/plain": "Downloading:   0%|          | 0.00/878k [00:00<?, ?B/s]",
      "application/vnd.jupyter.widget-view+json": {
       "version_major": 2,
       "version_minor": 0,
       "model_id": "e0491290c0a44d73ae718e3febb3f841"
      }
     },
     "metadata": {},
     "output_type": "display_data"
    },
    {
     "data": {
      "text/plain": "Downloading:   0%|          | 0.00/446k [00:00<?, ?B/s]",
      "application/vnd.jupyter.widget-view+json": {
       "version_major": 2,
       "version_minor": 0,
       "model_id": "26146c62363c4ccc8710558a8e52601c"
      }
     },
     "metadata": {},
     "output_type": "display_data"
    },
    {
     "data": {
      "text/plain": "Downloading:   0%|          | 0.00/1.29M [00:00<?, ?B/s]",
      "application/vnd.jupyter.widget-view+json": {
       "version_major": 2,
       "version_minor": 0,
       "model_id": "f3ccee88eece4f27bc1a34bcf38ad5d2"
      }
     },
     "metadata": {},
     "output_type": "display_data"
    },
    {
     "data": {
      "text/plain": "Downloading:   0%|          | 0.00/482 [00:00<?, ?B/s]",
      "application/vnd.jupyter.widget-view+json": {
       "version_major": 2,
       "version_minor": 0,
       "model_id": "d9cfbb3482aa48a3bf0bd48e943d93a1"
      }
     },
     "metadata": {},
     "output_type": "display_data"
    },
    {
     "data": {
      "text/plain": "Downloading:   0%|          | 0.00/1.33G [00:00<?, ?B/s]",
      "application/vnd.jupyter.widget-view+json": {
       "version_major": 2,
       "version_minor": 0,
       "model_id": "17363b1f58384118bb0463a4d3f2532b"
      }
     },
     "metadata": {},
     "output_type": "display_data"
    },
    {
     "name": "stderr",
     "output_type": "stream",
     "text": [
      "Some weights of the model checkpoint at roberta-large were not used when initializing RobertaModel: ['lm_head.decoder.weight', 'lm_head.dense.weight', 'lm_head.bias', 'lm_head.dense.bias', 'lm_head.layer_norm.bias', 'lm_head.layer_norm.weight']\n",
      "- This IS expected if you are initializing RobertaModel from the checkpoint of a model trained on another task or with another architecture (e.g. initializing a BertForSequenceClassification model from a BertForPreTraining model).\n",
      "- This IS NOT expected if you are initializing RobertaModel from the checkpoint of a model that you expect to be exactly identical (initializing a BertForSequenceClassification model from a BertForSequenceClassification model).\n"
     ]
    }
   ],
   "source": [
    "tokenizer = RobertaTokenizer.from_pretrained('roberta-large')\n",
    "model = RobertaModel.from_pretrained('roberta-large')"
   ],
   "metadata": {
    "collapsed": false,
    "pycharm": {
     "name": "#%%\n"
    }
   }
  },
  {
   "cell_type": "code",
   "execution_count": 17,
   "outputs": [],
   "source": [
    "text = \"\"\"CS161: FUNDAMENTALS OF ARTIFICIAL INTELLIGENCE Syllabus - Spring 2021 http://ccle.ucla.edu Office Hours: 3:00-4:00pm Wednesdays. Teaching Assistants: Posted on CCLE (including office hours). Text: “Artificial Intelligence: A Modern Approach,” by S. Russell and P. Norvig. Fourth Edition, Pearson, 2020. Grading: 30% homework, 30% midterm, and 40% final. Assignments: Weekly assignments; usually released on Tuesdays. Outline: The outline below is tentative and subject to change. 1. Introduction to course, artificial intelligence, and LISP. Chapters 1-2. 2. LISP continued. 3. Problem solving as search. Chapter 3. 4. Systematic search strategies. Chapter 3. 5. Informed search strategies, local search. Chapters 3, 4. 6. Constraint satisfaction. Chapter 6. 7. Game playing and adversarial search. Chapter 5. 8. Propositional logic: Representation. Chapter 7. 9. Propositional logic: Inference. Chapter 7. 10. First-order logic: Representation. Chapter 8. 11. Midterm exam (tentative). 12. First-order logic: Inference. Chapter 9. 13. Reasoning under uncertainty. Chapter 12. 14. Bayesian networks: Syntax and semantics. Chapter 13. 15. Bayesian networks: Modeling and inference. Chapter 13. 16. Machine Learning: Probabilistic Graphical Models. Chapter 20. 17. Machine Learning: Decision Trees & Random Forests. Chapter 19. 18. Machine Learning: Neural Networks. Chapter 21. 19. Machine Learning: Neural Networks. Chapter 21. 20. Machine Learning: Neural Networks and wrap-up. Instructor: Professor Adnan Darwiche, email darwiche@cs.ucla.edu.\"\"\"\n",
    "\n",
    "inputs = tokenizer(text, return_tensors=\"pt\")\n",
    "outputs = model(**inputs)"
   ],
   "metadata": {
    "collapsed": false,
    "pycharm": {
     "name": "#%%\n"
    }
   }
  },
  {
   "cell_type": "code",
   "execution_count": 17,
   "outputs": [],
   "source": [],
   "metadata": {
    "collapsed": false,
    "pycharm": {
     "name": "#%%\n"
    }
   }
  },
  {
   "cell_type": "code",
   "execution_count": 18,
   "outputs": [],
   "source": [
    "last_hidden_states1 = outputs.last_hidden_state"
   ],
   "metadata": {
    "collapsed": false,
    "pycharm": {
     "name": "#%%\n"
    }
   }
  },
  {
   "cell_type": "code",
   "execution_count": 26,
   "outputs": [
    {
     "data": {
      "text/plain": "torch.Size([1, 405, 1024])"
     },
     "execution_count": 26,
     "metadata": {},
     "output_type": "execute_result"
    }
   ],
   "source": [
    "last_hidden_states1"
   ],
   "metadata": {
    "collapsed": false,
    "pycharm": {
     "name": "#%%\n"
    }
   }
  },
  {
   "cell_type": "code",
   "execution_count": 65,
   "outputs": [],
   "source": [
    "text2 = \"\"\"CS 161: Fundamentals of Artificial Intelligence Fall 2021 – Final Study Guide\n",
    "\n",
    "Material The final covers all the material but will be more heavily focused on the material that was not covered in the midterm. The following items are in the scope of the\n",
    "Form The final will entirely consist of true/false and multiple-choice questions. They will still require that you solve more open-ended exercises (as on the midterm) before answering a multiple-choice question about the result. The exam is closed book. You are allowed to bring a simple calculator but it will not be necessary.\n",
    "\n",
    "The following items will almost certainly be on the final, with more emphasis on the material covered after the midterm.\n",
    "\n",
    "1. A simple LISP programming exercise\n",
    "\n",
    "2. Formalize a real-world problem as a search or constraint satisfaction problem. Come up with an admissible heuristic. Determine branching factors and solution depths.\n",
    "\n",
    "3. Label nodes in a search tree according to the order in which they will be expanded/generated for any of the search algorithms.\n",
    "\n",
    "4. Determine completeness, optimality, time, or space complexity for an algorithm related to the ones we saw in class.\n",
    "\n",
    "5. Perform steps of constraint satisfaction backtracking search, for various choices of variable order, value selection, and constraint propagation.\n",
    "\n",
    "6. Compute minimax or expectiminimax values to solve a game.\n",
    "\n",
    "9. Convert a propositional logic sentence to CNF. Apply standard logical rewritings.\n",
    "\n",
    "10. Reason using possible\n",
    "\n",
    "11. Perform propositional resolution, apply deductive inference rules, and perform simple DPLL, simple\n",
    "\n",
    "12. Basic probabilistic reasoning (inclusion-exclusion, marginalization, conditioning, Bayes rule) and checking properties (conditional independence).\n",
    "\n",
    "13. Identify conditional independence assumptions and joint distribution encoded by a Bayesian network (semantics) ok fine\n",
    "2\"\"\"\n",
    "\n",
    "inputs = tokenizer(text2, return_tensors=\"pt\")\n",
    "outputs = model(**inputs)"
   ],
   "metadata": {
    "collapsed": false,
    "pycharm": {
     "name": "#%%\n"
    }
   }
  },
  {
   "cell_type": "code",
   "execution_count": 66,
   "outputs": [],
   "source": [
    "last_hidden_states2 = outputs.last_hidden_state"
   ],
   "metadata": {
    "collapsed": false,
    "pycharm": {
     "name": "#%%\n"
    }
   }
  },
  {
   "cell_type": "code",
   "execution_count": 66,
   "outputs": [],
   "source": [],
   "metadata": {
    "collapsed": false,
    "pycharm": {
     "name": "#%%\n"
    }
   }
  },
  {
   "cell_type": "code",
   "execution_count": 67,
   "outputs": [
    {
     "data": {
      "text/plain": "torch.Size([1, 405, 1024])"
     },
     "execution_count": 67,
     "metadata": {},
     "output_type": "execute_result"
    }
   ],
   "source": [
    "last_hidden_states2.shape"
   ],
   "metadata": {
    "collapsed": false,
    "pycharm": {
     "name": "#%%\n"
    }
   }
  },
  {
   "cell_type": "code",
   "execution_count": 72,
   "outputs": [],
   "source": [
    "cos = torch.nn.CosineSimilarity(dim=2)"
   ],
   "metadata": {
    "collapsed": false,
    "pycharm": {
     "name": "#%%\n"
    }
   }
  },
  {
   "cell_type": "code",
   "execution_count": 74,
   "outputs": [
    {
     "data": {
      "text/plain": "tensor(17.9376, grad_fn=<CopyBackwards>)"
     },
     "execution_count": 74,
     "metadata": {},
     "output_type": "execute_result"
    }
   ],
   "source": [
    "torch.linalg.norm(cos(last_hidden_states1, last_hidden_states2))"
   ],
   "metadata": {
    "collapsed": false,
    "pycharm": {
     "name": "#%%\n"
    }
   }
  },
  {
   "cell_type": "code",
   "execution_count": null,
   "outputs": [],
   "source": [],
   "metadata": {
    "collapsed": false,
    "pycharm": {
     "name": "#%%\n"
    }
   }
  }
 ],
 "metadata": {
  "kernelspec": {
   "display_name": "Python 3",
   "language": "python",
   "name": "python3"
  },
  "language_info": {
   "codemirror_mode": {
    "name": "ipython",
    "version": 2
   },
   "file_extension": ".py",
   "mimetype": "text/x-python",
   "name": "python",
   "nbconvert_exporter": "python",
   "pygments_lexer": "ipython2",
   "version": "2.7.6"
  }
 },
 "nbformat": 4,
 "nbformat_minor": 0
}